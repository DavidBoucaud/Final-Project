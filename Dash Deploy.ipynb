{
 "cells": [
  {
   "source": [
    "# Dash Application (CNN Plant Identification)"
   ],
   "cell_type": "markdown",
   "metadata": {}
  },
  {
   "cell_type": "code",
   "execution_count": 1,
   "metadata": {
    "tags": []
   },
   "outputs": [],
   "source": [
    "import pandas as pd\n",
    "import numpy as np\n",
    "\n",
    "import cv2\n",
    "import base64\n",
    "\n",
    "import os\n",
    "import requests\n",
    "from bs4 import BeautifulSoup\n",
    "import selenium\n",
    "from selenium import webdriver\n",
    "import contextlib\n",
    "\n",
    "from keras.models import Sequential, Model\n",
    "from keras.layers.normalization import BatchNormalization\n",
    "from keras.layers.convolutional import Conv2D\n",
    "from keras.layers.convolutional import MaxPooling2D\n",
    "from keras.layers.core import Activation, Flatten, Dropout, Dense\n",
    "from keras import backend as K\n",
    "from keras.preprocessing.image import ImageDataGenerator\n",
    "from keras.optimizers import Adam\n",
    "\n",
    "import tensorflow as tf\n",
    "import keras\n",
    "\n",
    "from PIL import Image\n",
    "import urllib\n",
    "\n",
    "import sklearn\n",
    "from sklearn import preprocessing\n",
    "\n",
    "import dash\n",
    "import dash_core_components as dcc\n",
    "import dash_html_components as html\n",
    "import dash_bootstrap_components as dbc\n",
    "from dash.dependencies import Input, Output, State\n",
    "\n",
    "import plotly.express as px\n",
    "import plotly.graph_objects as go"
   ]
  },
  {
   "source": [
    "## Import Data + Keras Model\n",
    "### Insert the paths of the files generated in DF Assembly."
   ],
   "cell_type": "markdown",
   "metadata": {}
  },
  {
   "cell_type": "code",
   "execution_count": 17,
   "metadata": {},
   "outputs": [],
   "source": [
    "info_df = pd.read_csv(r'C:\\Users\\David\\Documents\\code\\What_Plant\\info_df')\n",
    "df = pd.read_pickle(r'C:\\Users\\David\\Documents\\code\\What_Plant\\cucumber')\n",
    "model = keras.models.load_model(r'C:\\Users\\David\\Documents\\code\\Final_Project')"
   ]
  },
  {
   "source": [
    "## Prepare labels"
   ],
   "cell_type": "markdown",
   "metadata": {}
  },
  {
   "cell_type": "code",
   "execution_count": 9,
   "metadata": {},
   "outputs": [],
   "source": [
    "#Label Prep\n",
    "le = preprocessing.LabelEncoder() #We will need this to return our original labels later\n",
    "y = df.label\n",
    "le.fit(y)\n",
    "y = le.transform(y)\n",
    "output_shape = len(np.unique(y))\n",
    "\n",
    "y = to_categorical(y)"
   ]
  },
  {
   "source": [
    "## Logo, for style\n",
    "### This really isn't necessary. Consider replacing the dcc.Graph in the top row with a regular title/"
   ],
   "cell_type": "markdown",
   "metadata": {}
  },
  {
   "cell_type": "code",
   "execution_count": 6,
   "metadata": {},
   "outputs": [],
   "source": [
    "img = cv2.imread(r'C:\\Users\\David\\Documents\\code\\What_Plant\\Banner.jpg')\n",
    "pic = px.imshow(img)\n",
    "pic.update_layout(coloraxis_showscale=False,\n",
    "        margin_l=0,\n",
    "        margin_r=0,\n",
    "        margin_t=0,\n",
    "        margin_b=0)\n",
    "pic.update_xaxes(showticklabels=False)\n",
    "pic.update_yaxes(showticklabels=False);"
   ]
  },
  {
   "source": [
    "## Construct Dash App and Deploy"
   ],
   "cell_type": "markdown",
   "metadata": {}
  },
  {
   "cell_type": "code",
   "execution_count": 18,
   "metadata": {
    "tags": []
   },
   "outputs": [
    {
     "output_type": "stream",
     "name": "stdout",
     "text": [
      "Dash is running on http://127.0.0.1:8050/\n",
      "\n",
      "Dash is running on http://127.0.0.1:8050/\n",
      "\n",
      "Dash is running on http://127.0.0.1:8050/\n",
      "\n",
      "Dash is running on http://127.0.0.1:8050/\n",
      "\n",
      "Dash is running on http://127.0.0.1:8050/\n",
      "\n",
      " * Serving Flask app \"__main__\" (lazy loading)\n",
      " * Environment: production\n",
      "   WARNING: This is a development server. Do not use it in a production deployment.\n",
      "   Use a production WSGI server instead.\n",
      " * Debug mode: off\n",
      " * Running on http://127.0.0.1:8050/ (Press CTRL+C to quit)\n",
      "127.0.0.1 - - [19/May/2021 17:54:29] \"\u001b[37mGET / HTTP/1.1\u001b[0m\" 200 -\n",
      "127.0.0.1 - - [19/May/2021 17:54:29] \"\u001b[37mGET /_dash-dependencies HTTP/1.1\u001b[0m\" 200 -\n",
      "127.0.0.1 - - [19/May/2021 17:54:29] \"\u001b[37mGET /_favicon.ico?v=1.20.0 HTTP/1.1\u001b[0m\" 200 -\n",
      "127.0.0.1 - - [19/May/2021 17:54:29] \"\u001b[37mGET /_dash-layout HTTP/1.1\u001b[0m\" 200 -\n",
      "127.0.0.1 - - [19/May/2021 17:54:30] \"\u001b[37mPOST /_dash-update-component HTTP/1.1\u001b[0m\" 200 -\n",
      "127.0.0.1 - - [19/May/2021 17:54:38] \"\u001b[37mPOST /_dash-update-component HTTP/1.1\u001b[0m\" 200 -\n",
      "127.0.0.1 - - [19/May/2021 17:54:43] \"\u001b[37mPOST /_dash-update-component HTTP/1.1\u001b[0m\" 200 -\n"
     ]
    }
   ],
   "source": [
    "app = dash.Dash(__name__, external_stylesheets=[dbc.themes.MINTY],\n",
    "                meta_tags=[{'name': 'viewport', 'content': 'width=device-width, initial-scale=1.0'}]\n",
    "                )\n",
    "server = app.server\n",
    "# ----------------------------------------------------------------------------------------------------\n",
    "app.layout = dbc.Container([\n",
    "\n",
    "# First Row\n",
    "dbc.Row([\n",
    "        dbc.Col(dcc.Graph(figure=pic))\n",
    "                \n",
    "    ]),\n",
    "#Second Row\n",
    "    dbc.Row([\n",
    "        dcc.Upload(\n",
    "        id='upload-image',\n",
    "        children=html.Div([\n",
    "            'Drop your Plant Picture or Click to ',\n",
    "            html.A('Select a File')\n",
    "        ]),\n",
    "        style={\n",
    "            'width': '100%',\n",
    "            'height': '60px',\n",
    "            'lineHeight': '60px',\n",
    "            'borderWidth': '1px',\n",
    "            'borderStyle': 'dashed',\n",
    "            'borderRadius': '5px',\n",
    "            'textAlign': 'center',\n",
    "            'margin': '10px'\n",
    "        },\n",
    "        multiple=False\n",
    "    ),\n",
    "\n",
    "    ]),\n",
    "\n",
    "    dbc.Row([\n",
    "        dbc.Col(html.Img(id='output-image-upload', height=600, width=600),\n",
    "                width=7),\n",
    "        dbc.Col(dcc.Graph(id='Info_Chart', className=\"thead-dark\"),\n",
    "                width=5)\n",
    "    ]),\n",
    "\n",
    "\n",
    "])\n",
    "\n",
    "def make_chart(plant):\n",
    "    df = info_df.loc[info_df.latin == plant]\n",
    "    fig = go.Figure(\n",
    "        data=[go.Table(header=dict(values=['Light', 'Soil', 'Water']),\n",
    "                       cells=dict(values=[df['Light'], df['Soil'], df['Water'] ]) )\n",
    "              ])\n",
    "    fig.update_layout(\n",
    "        title=dict(\n",
    "            text=(plant + ' Care Information'),\n",
    "            x=0.5\n",
    "        ),\n",
    "        font_family='arial',\n",
    "        margin_l=0,\n",
    "        margin_r=0,\n",
    "        margin_t=30,\n",
    "        margin_b=0)\n",
    "    return fig\n",
    "\n",
    "\n",
    "\n",
    "# ---------------------------------------------------------------\n",
    "# Info_Chart\n",
    "@app.callback(\n",
    "    Output('Info_Chart', 'figure'),\n",
    "    Output('output-image-upload', 'src'),\n",
    "    Input('upload-image', 'contents'))\n",
    "def update_all(contents):\n",
    "    if contents is None:\n",
    "        pred = 'Lithops'\n",
    "        fig = make_chart(pred)\n",
    "        src = df.loc[df.label == pred, 'image_url'][:1]\n",
    "        return fig, src\n",
    "\n",
    "        raise dash.exceptions.PreventUpdate\n",
    "\n",
    "    #Return prediction\n",
    "    encoded_data = contents.split(',')[1]\n",
    "    nparr = np.frombuffer(base64.b64decode(encoded_data), np.uint8)\n",
    "    img = cv2.imdecode(nparr, cv2.IMREAD_COLOR)\n",
    "    img = cv2.cvtColor(img, cv2.COLOR_BGR2RGB)\n",
    "    image = cv2.resize(img, (28, 28), 0, 0, cv2.INTER_LINEAR)\n",
    "    X = image.reshape(-1, 28, 28, 3)\n",
    "    predictions = np.argmax(model.predict(X), axis=-1) \n",
    "    pred = le.inverse_transform(predictions)\n",
    "    pred = pred[0]\n",
    "\n",
    "    #Return InfoChart\n",
    "    fig = make_chart(pred)\n",
    "\n",
    "    #Return Image\n",
    "    src = df.loc[df.label == pred, 'image_url'][:1]\n",
    "    return fig, src\n",
    "\n",
    "# ---------------------------------------------------------------\n",
    "if __name__ == '__main__':\n",
    "    app.run_server()"
   ]
  }
 ],
 "metadata": {
  "kernelspec": {
   "name": "python383jvsc74a57bd02b98e5309e6e3b0bade2ed4a1aa225e8ff7275f11bed2b4c0572310c8cf94ab4",
   "display_name": "Python 3.8.3 64-bit ('base': conda)"
  },
  "language_info": {
   "codemirror_mode": {
    "name": "ipython",
    "version": 3
   },
   "file_extension": ".py",
   "mimetype": "text/x-python",
   "name": "python",
   "nbconvert_exporter": "python",
   "pygments_lexer": "ipython3",
   "version": "3.8.3"
  }
 },
 "nbformat": 4,
 "nbformat_minor": 5
}